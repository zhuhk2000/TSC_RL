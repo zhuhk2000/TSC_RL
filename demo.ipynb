{
 "cells": [
  {
   "cell_type": "code",
   "execution_count": 8,
   "metadata": {},
   "outputs": [
    {
     "data": {
      "text/plain": [
       "tensor([ 0.,  1., -1.])"
      ]
     },
     "execution_count": 8,
     "metadata": {},
     "output_type": "execute_result"
    }
   ],
   "source": [
    "import torch\n",
    "\n",
    "sign = torch.sign(torch.tensor([0.0, 2.0, -3.0]))  # tensor([ 0.,  1., -1.])\n",
    "sign"
   ]
  },
  {
   "cell_type": "code",
   "execution_count": 9,
   "metadata": {},
   "outputs": [],
   "source": [
    "import os, sys\n",
    "if'SUMO_HOME' in os.environ:\n",
    "    tools = os.path.join(os.environ['SUMO_HOME'], 'tools')\n",
    "    sys.path.append(tools)\n",
    "else:  \n",
    "    sys.exit(\"please declare environmentvariable 'SUMO_HOME'\")\n",
    "\n",
    "import sumolib\n",
    "\n",
    "net = sumolib.net.readNet('data/smwan1.net.xml', withLatestPrograms=True)"
   ]
  },
  {
   "cell_type": "code",
   "execution_count": 10,
   "metadata": {},
   "outputs": [],
   "source": [
    "tls = net.getTLS(\"J2\")\n",
    "tls_program = tls.getPrograms()[\"0\"]"
   ]
  },
  {
   "cell_type": "code",
   "execution_count": 11,
   "metadata": {},
   "outputs": [
    {
     "data": {
      "text/plain": [
       "'s'"
      ]
     },
     "execution_count": 11,
     "metadata": {},
     "output_type": "execute_result"
    }
   ],
   "source": [
    "tls_program.getPhases()\n",
    "inlines = list(set([c[0] for c in tls.getConnections()]))\n",
    "inlines[0].getOutgoing()[0].getDirection()"
   ]
  },
  {
   "cell_type": "code",
   "execution_count": 16,
   "metadata": {},
   "outputs": [
    {
     "data": {
      "text/plain": [
       "[Phase(duration=38, state='rrrGGGgGGGg', minDur=-1, maxDur=-1),\n",
       " Phase(duration=3, state='rrryyygyyyg', minDur=-1, maxDur=-1),\n",
       " Phase(duration=6, state='rrrrrrGrrrG', minDur=-1, maxDur=-1),\n",
       " Phase(duration=3, state='rrrrrryrrry', minDur=-1, maxDur=-1),\n",
       " Phase(duration=37, state='GGGGrrrrrrr', minDur=-1, maxDur=-1),\n",
       " Phase(duration=3, state='yyyGrrrrrrr', minDur=-1, maxDur=-1)]"
      ]
     },
     "execution_count": 16,
     "metadata": {},
     "output_type": "execute_result"
    }
   ],
   "source": [
    "net.getTrafficLights()[0].getPrograms()[\"0\"].getPhases()"
   ]
  },
  {
   "cell_type": "code",
   "execution_count": 17,
   "metadata": {},
   "outputs": [
    {
     "name": "stdout",
     "output_type": "stream",
     "text": [
      "J2 {3: [[<sumolib.net.lane.Lane object at 0x000002391C49C450>, <sumolib.net.lane.Lane object at 0x000002391C4B6F50>, 3]], 4: [[<sumolib.net.lane.Lane object at 0x000002391C49C450>, <sumolib.net.lane.Lane object at 0x000002391C55EF90>, 4]], 5: [[<sumolib.net.lane.Lane object at 0x000002391C49F010>, <sumolib.net.lane.Lane object at 0x000002391C55EBD0>, 5]], 6: [[<sumolib.net.lane.Lane object at 0x000002391C49F010>, <sumolib.net.lane.Lane object at 0x000002391C56F110>, 6]], 0: [[<sumolib.net.lane.Lane object at 0x000002391C55EC50>, <sumolib.net.lane.Lane object at 0x000002391C55EF90>, 0]], 1: [[<sumolib.net.lane.Lane object at 0x000002391C55EC50>, <sumolib.net.lane.Lane object at 0x000002391C56F110>, 1]], 2: [[<sumolib.net.lane.Lane object at 0x000002391C55EC50>, <sumolib.net.lane.Lane object at 0x000002391C4A76D0>, 2]], 7: [[<sumolib.net.lane.Lane object at 0x000002391C56C6D0>, <sumolib.net.lane.Lane object at 0x000002391C56F110>, 7]], 8: [[<sumolib.net.lane.Lane object at 0x000002391C56C6D0>, <sumolib.net.lane.Lane object at 0x000002391C55CB10>, 8]], 9: [[<sumolib.net.lane.Lane object at 0x000002391C56C710>, <sumolib.net.lane.Lane object at 0x000002391C4A76D0>, 9]], 10: [[<sumolib.net.lane.Lane object at 0x000002391C56FA10>, <sumolib.net.lane.Lane object at 0x000002391C4B6F50>, 10]]}\n",
      "J5 {0: [[<sumolib.net.lane.Lane object at 0x000002391C4CB290>, <sumolib.net.lane.Lane object at 0x000002391C49C450>, 0]], 1: [[<sumolib.net.lane.Lane object at 0x000002391C4CA050>, <sumolib.net.lane.Lane object at 0x000002391C49F010>, 1]], 4: [[<sumolib.net.lane.Lane object at 0x000002391C55CB10>, <sumolib.net.lane.Lane object at 0x000002391C4A66D0>, 4]], 5: [[<sumolib.net.lane.Lane object at 0x000002391C4A76D0>, <sumolib.net.lane.Lane object at 0x000002391C4A7690>, 5]], 2: [[<sumolib.net.lane.Lane object at 0x000002391C4B7AD0>, <sumolib.net.lane.Lane object at 0x000002391C4A66D0>, 2]], 3: [[<sumolib.net.lane.Lane object at 0x000002391C4B7AD0>, <sumolib.net.lane.Lane object at 0x000002391C49F010>, 3]]}\n",
      "J7 {6: [[<sumolib.net.lane.Lane object at 0x000002391C48A5D0>, <sumolib.net.lane.Lane object at 0x000002391C4B4710>, 6]], 7: [[<sumolib.net.lane.Lane object at 0x000002391C48A5D0>, <sumolib.net.lane.Lane object at 0x000002391C56C350>, 7]], 8: [[<sumolib.net.lane.Lane object at 0x000002391C48A5D0>, <sumolib.net.lane.Lane object at 0x000002391C4CA050>, 8]], 3: [[<sumolib.net.lane.Lane object at 0x000002391C489590>, <sumolib.net.lane.Lane object at 0x000002391C56C350>, 3]], 4: [[<sumolib.net.lane.Lane object at 0x000002391C489590>, <sumolib.net.lane.Lane object at 0x000002391C4CA050>, 4]], 5: [[<sumolib.net.lane.Lane object at 0x000002391C489590>, <sumolib.net.lane.Lane object at 0x000002391C4A7310>, 5]], 0: [[<sumolib.net.lane.Lane object at 0x000002391C55EA10>, <sumolib.net.lane.Lane object at 0x000002391C4CB290>, 0]], 1: [[<sumolib.net.lane.Lane object at 0x000002391C55EA10>, <sumolib.net.lane.Lane object at 0x000002391C4A7310>, 1]], 2: [[<sumolib.net.lane.Lane object at 0x000002391C55EA10>, <sumolib.net.lane.Lane object at 0x000002391C4B4710>, 2]], 9: [[<sumolib.net.lane.Lane object at 0x000002391C4A66D0>, <sumolib.net.lane.Lane object at 0x000002391C4A7310>, 9]], 10: [[<sumolib.net.lane.Lane object at 0x000002391C4A66D0>, <sumolib.net.lane.Lane object at 0x000002391C4B4710>, 10]], 11: [[<sumolib.net.lane.Lane object at 0x000002391C4A7690>, <sumolib.net.lane.Lane object at 0x000002391C56C350>, 11]]}\n"
     ]
    }
   ],
   "source": [
    "for i in net.getTrafficLights():\n",
    "    print(i.getID(), i.getLinks())"
   ]
  },
  {
   "cell_type": "code",
   "execution_count": 18,
   "metadata": {},
   "outputs": [],
   "source": [
    "tls = net.getTLS(\"J2\")"
   ]
  },
  {
   "cell_type": "code",
   "execution_count": 19,
   "metadata": {},
   "outputs": [
    {
     "data": {
      "text/plain": [
       "[Phase(duration=38, state='rrrGGGgGGGg', minDur=-1, maxDur=-1),\n",
       " Phase(duration=3, state='rrryyygyyyg', minDur=-1, maxDur=-1),\n",
       " Phase(duration=6, state='rrrrrrGrrrG', minDur=-1, maxDur=-1),\n",
       " Phase(duration=3, state='rrrrrryrrry', minDur=-1, maxDur=-1),\n",
       " Phase(duration=37, state='GGGGrrrrrrr', minDur=-1, maxDur=-1),\n",
       " Phase(duration=3, state='yyyGrrrrrrr', minDur=-1, maxDur=-1)]"
      ]
     },
     "execution_count": 19,
     "metadata": {},
     "output_type": "execute_result"
    }
   ],
   "source": [
    "tls.getPrograms()[\"0\"].getPhases()"
   ]
  },
  {
   "cell_type": "code",
   "execution_count": 20,
   "metadata": {},
   "outputs": [],
   "source": [
    "phase_plan = [p.state for p in tls.getPrograms()[\"0\"].getPhases()][::2]\n",
    "clearance_plan = [p.state for p in tls.getPrograms()[\"0\"].getPhases()][1::2]"
   ]
  },
  {
   "cell_type": "code",
   "execution_count": 21,
   "metadata": {},
   "outputs": [
    {
     "name": "stdout",
     "output_type": "stream",
     "text": [
      "['rrrGGGgGGGg', 'rrrrrrGrrrG', 'GGGGrrrrrrr']\n",
      "['rrryyygyyyg', 'rrrrrryrrry', 'yyyGrrrrrrr']\n"
     ]
    }
   ],
   "source": [
    "print(phase_plan)\n",
    "print(clearance_plan)"
   ]
  },
  {
   "cell_type": "code",
   "execution_count": 22,
   "metadata": {},
   "outputs": [
    {
     "data": {
      "text/plain": [
       "['rrrGGGgGGGg',\n",
       " 'rrryyygyyyg',\n",
       " 'rrrrrrGrrrG',\n",
       " 'rrrrrryrrry',\n",
       " 'GGGGrrrrrrr',\n",
       " 'yyyGrrrrrrr']"
      ]
     },
     "execution_count": 22,
     "metadata": {},
     "output_type": "execute_result"
    }
   ],
   "source": [
    "[p.state for p in tls.getPrograms()[\"0\"].getPhases()]"
   ]
  },
  {
   "cell_type": "code",
   "execution_count": 23,
   "metadata": {},
   "outputs": [
    {
     "name": "stdout",
     "output_type": "stream",
     "text": [
      "['rrryyygyyyg', 'rrrrrryrrry', 'yyyGrrrrrrr']\n"
     ]
    }
   ],
   "source": [
    "yellow_plan = []\n",
    "for p, cp in zip(phase_plan, clearance_plan):\n",
    "    yp =[]\n",
    "    for x,y in zip(p, cp):\n",
    "        if x in \"Gg\" and y in \"Rr\":\n",
    "            yp.append(\"y\")\n",
    "        else:\n",
    "            yp.append(y)\n",
    "    yellow_plan.append(\"\".join(yp))\n",
    "\n",
    "print(yellow_plan)"
   ]
  },
  {
   "cell_type": "code",
   "execution_count": 24,
   "metadata": {},
   "outputs": [
    {
     "data": {
      "text/plain": [
       "('-E0_0', [(71.35, -20.67), (-135.48, 165.77)])"
      ]
     },
     "execution_count": 24,
     "metadata": {},
     "output_type": "execute_result"
    }
   ],
   "source": [
    "tls.getConnections()[0][0].getID(), tls.getConnections()[0][0].getShape()"
   ]
  },
  {
   "cell_type": "code",
   "execution_count": 25,
   "metadata": {},
   "outputs": [
    {
     "data": {
      "text/plain": [
       "'s'"
      ]
     },
     "execution_count": 25,
     "metadata": {},
     "output_type": "execute_result"
    }
   ],
   "source": [
    "connections = tls.getConnections()[0][0]\n",
    "connections.getOutgoing()[1].getDirection()"
   ]
  },
  {
   "cell_type": "code",
   "execution_count": 26,
   "metadata": {},
   "outputs": [
    {
     "name": "stdout",
     "output_type": "stream",
     "text": [
      "0\n"
     ]
    }
   ],
   "source": [
    "from collections import defaultdict\n",
    "\n",
    "dic = defaultdict(int)\n",
    "\n",
    "print(dic[\"a\"])"
   ]
  },
  {
   "cell_type": "code",
   "execution_count": 16,
   "metadata": {},
   "outputs": [
    {
     "data": {
      "text/plain": [
       "Phase(duration=20, state='rrrr', minDur=20, maxDur=20)"
      ]
     },
     "execution_count": 16,
     "metadata": {},
     "output_type": "execute_result"
    }
   ],
   "source": [
    "import traci\n",
    "\n",
    "traci.trafficlight.Phase(20,\"rrrr\")"
   ]
  },
  {
   "cell_type": "code",
   "execution_count": 19,
   "metadata": {},
   "outputs": [
    {
     "data": {
      "text/plain": [
       "torch.return_types.max(\n",
       "values=tensor([ 5, 10]),\n",
       "indices=tensor([4, 4]))"
      ]
     },
     "execution_count": 19,
     "metadata": {},
     "output_type": "execute_result"
    }
   ],
   "source": [
    "import torch\n",
    "\n",
    "logits = torch.tensor([1,2,3,4,5,6,7,8,9,10]).reshape(2,5)\n",
    "\n",
    "index = logits.max(1)\n",
    "\n",
    "index"
   ]
  },
  {
   "cell_type": "code",
   "execution_count": 16,
   "metadata": {},
   "outputs": [
    {
     "data": {
      "text/plain": [
       "'12_05_20_45model.pth'"
      ]
     },
     "execution_count": 16,
     "metadata": {},
     "output_type": "execute_result"
    }
   ],
   "source": [
    "import time\n",
    "\n",
    "# 日期和时分秒\n",
    "\n",
    "time.strftime(\"%m_%d_%H_%M\", time.localtime()) + \"model.pth\""
   ]
  },
  {
   "cell_type": "code",
   "execution_count": 21,
   "metadata": {},
   "outputs": [
    {
     "data": {
      "text/plain": [
       "tensor([ True, False,  True, False,  True, False,  True, False,  True, False])"
      ]
     },
     "execution_count": 21,
     "metadata": {},
     "output_type": "execute_result"
    }
   ],
   "source": [
    "# 创建一个bool类型的tensor\n",
    "import numpy as np\n",
    "done = np.array([1,0,1,0,1,0,1,0,1,0])\n",
    "done = torch.tensor(done, dtype=torch.bool)\n",
    "done"
   ]
  },
  {
   "cell_type": "code",
   "execution_count": 24,
   "metadata": {},
   "outputs": [
    {
     "data": {
      "text/plain": [
       "[1, 2, 3]"
      ]
     },
     "execution_count": 24,
     "metadata": {},
     "output_type": "execute_result"
    }
   ],
   "source": [
    "import pandas as pd\n",
    "\n",
    "df = pd.DataFrame({\"a\":[1,2,3], \"b\":[4,5,6]})\n",
    "\n",
    "df[\"a\"].to_list()"
   ]
  },
  {
   "cell_type": "code",
   "execution_count": 47,
   "metadata": {},
   "outputs": [
    {
     "data": {
      "text/plain": [
       "(array([-9, -7, -5, -3, -1,  1,  3,  5,  7,  9]),\n",
       " [9, 8, 7, 6, 5, 4, 3, 2, 1, 0])"
      ]
     },
     "execution_count": 47,
     "metadata": {},
     "output_type": "execute_result"
    }
   ],
   "source": [
    "import numpy as np\n",
    "\n",
    "a = np.array([1,2,3,4,5,6,7,8,9,10])\n",
    "b = np.array([1,2,3,4,5,6,7,8,9,10])\n",
    "index1 = [i for i in range(10)]\n",
    "index2 = [i for i in range(9,-1,-1)]\n",
    "c = a[index1] - b[index2]\n",
    "c, index2"
   ]
  },
  {
   "cell_type": "code",
   "execution_count": 48,
   "metadata": {},
   "outputs": [
    {
     "name": "stdout",
     "output_type": "stream",
     "text": [
      "[10, 9, 8, 7, 6, 5, 4, 3, 2, 1]\n"
     ]
    }
   ],
   "source": [
    "reverse_list = list(range(10, 0, -1))\n",
    "print(reverse_list)"
   ]
  },
  {
   "cell_type": "code",
   "execution_count": 36,
   "metadata": {},
   "outputs": [
    {
     "data": {
      "text/plain": [
       "[10, 9, 8, 7, 6, 5, 4, 3, 2, 1]"
      ]
     },
     "execution_count": 36,
     "metadata": {},
     "output_type": "execute_result"
    }
   ],
   "source": [
    "a = [1,2,3,4,5,6,7,8,9,10]\n",
    "\n",
    "a.reverse()\n",
    "a"
   ]
  },
  {
   "cell_type": "code",
   "execution_count": 53,
   "metadata": {},
   "outputs": [
    {
     "data": {
      "text/plain": [
       "[array([0.86357107, 0.190689  , 0.98145148, 0.30263257, 0.89783156]),\n",
       " array([0.9346709 , 0.80254941, 0.01623215, 0.78795856, 0.65514415]),\n",
       " array([0.76955007, 0.89455541, 0.88451049, 0.42252433, 0.69198908])]"
      ]
     },
     "execution_count": 53,
     "metadata": {},
     "output_type": "execute_result"
    }
   ],
   "source": [
    "a = np.random.random(5).reshape(5)\n",
    "b = np.random.random(5).reshape(5)\n",
    "c = np.random.random(5).reshape(5)\n",
    "l1 = []\n",
    "l1.append(a)\n",
    "l1.append(b)\n",
    "l1.append(c)\n",
    "phase = np.random.random((3,8))\n",
    "l1"
   ]
  },
  {
   "cell_type": "code",
   "execution_count": 54,
   "metadata": {},
   "outputs": [
    {
     "data": {
      "text/plain": [
       "array([[0.86325843, 0.48484998, 0.70127526, 0.1919395 , 0.01405383,\n",
       "        0.9623355 , 0.37899243, 0.76475145],\n",
       "       [0.77548693, 0.43282542, 0.36022079, 0.37318854, 0.80616796,\n",
       "        0.96518739, 0.0397101 , 0.23473633],\n",
       "       [0.27382492, 0.87770623, 0.19703932, 0.25759252, 0.11921371,\n",
       "        0.84957357, 0.83529115, 0.65372785]])"
      ]
     },
     "execution_count": 54,
     "metadata": {},
     "output_type": "execute_result"
    }
   ],
   "source": [
    "phase"
   ]
  },
  {
   "cell_type": "code",
   "execution_count": 55,
   "metadata": {},
   "outputs": [
    {
     "data": {
      "text/plain": [
       "array([[0.86357107, 0.190689  , 0.98145148, 0.30263257, 0.89783156,\n",
       "        0.86325843, 0.48484998, 0.70127526, 0.1919395 , 0.01405383,\n",
       "        0.9623355 , 0.37899243, 0.76475145],\n",
       "       [0.9346709 , 0.80254941, 0.01623215, 0.78795856, 0.65514415,\n",
       "        0.77548693, 0.43282542, 0.36022079, 0.37318854, 0.80616796,\n",
       "        0.96518739, 0.0397101 , 0.23473633],\n",
       "       [0.76955007, 0.89455541, 0.88451049, 0.42252433, 0.69198908,\n",
       "        0.27382492, 0.87770623, 0.19703932, 0.25759252, 0.11921371,\n",
       "        0.84957357, 0.83529115, 0.65372785]])"
      ]
     },
     "execution_count": 55,
     "metadata": {},
     "output_type": "execute_result"
    }
   ],
   "source": [
    "np.concatenate([l1, phase], axis=1)"
   ]
  },
  {
   "cell_type": "code",
   "execution_count": 57,
   "metadata": {},
   "outputs": [
    {
     "data": {
      "text/plain": [
       "['agents.py',\n",
       " 'config.py',\n",
       " 'data',\n",
       " 'demo.ipynb',\n",
       " 'demo.py',\n",
       " 'envs.py',\n",
       " 'main.py',\n",
       " 'model.py',\n",
       " 'outputs',\n",
       " 'replay.py',\n",
       " 'sumo_rl_demo.py',\n",
       " 'weights']"
      ]
     },
     "execution_count": 57,
     "metadata": {},
     "output_type": "execute_result"
    }
   ],
   "source": [
    "import os\n",
    "\n",
    "os.listdir(\".\")"
   ]
  },
  {
   "cell_type": "code",
   "execution_count": 58,
   "metadata": {},
   "outputs": [
    {
     "data": {
      "text/plain": [
       "[<sumolib.net.TLS at 0x1abfee8fc90>,\n",
       " <sumolib.net.TLS at 0x1abfee94ed0>,\n",
       " <sumolib.net.TLS at 0x1abfee95250>]"
      ]
     },
     "execution_count": 58,
     "metadata": {},
     "output_type": "execute_result"
    }
   ],
   "source": [
    "net.getTrafficLights()"
   ]
  },
  {
   "cell_type": "code",
   "execution_count": 11,
   "metadata": {},
   "outputs": [
    {
     "data": {
      "text/plain": [
       "((1, 2, 3, 4, 5, 6, 7, 8, 9, 10),\n",
       " (11, 12, 13, 14, 15, 16, 17, 18, 19, 20),\n",
       " (21, 22, 23, 24, 25, 26, 27, 28, 29, 30))"
      ]
     },
     "execution_count": 11,
     "metadata": {},
     "output_type": "execute_result"
    }
   ],
   "source": [
    "a = [1,2,3,4,5,6,7,8,9,10]\n",
    "b = [11,12,13,14,15,16,17,18,19,20]\n",
    "c = [21,22,23,24,25,26,27,28,29,30]\n",
    "\n",
    "from collections import namedtuple\n",
    "\n",
    "Transition = namedtuple('Transition',('a', 'b', 'c'))\n",
    "\n",
    "l = []\n",
    "for i in range(10):\n",
    "    l.append(Transition(a[i], b[i], c[i]))\n",
    "l\n",
    "a, b, c = zip(*l)\n",
    "\n",
    "a, b, c"
   ]
  },
  {
   "cell_type": "code",
   "execution_count": 12,
   "metadata": {},
   "outputs": [
    {
     "name": "stdout",
     "output_type": "stream",
     "text": [
      "2\n"
     ]
    },
    {
     "data": {
      "text/plain": [
       "deque([1, 2, 3, 4, 5], maxlen=5)"
      ]
     },
     "execution_count": 12,
     "metadata": {},
     "output_type": "execute_result"
    }
   ],
   "source": [
    "from collections import deque\n",
    "\n",
    "a = deque(maxlen=5)\n",
    "a.append(1)\n",
    "a.append(2)\n",
    "print(len(a))\n",
    "a.append(3)\n",
    "a.append(4)\n",
    "a.append(5)\n",
    "a"
   ]
  },
  {
   "cell_type": "code",
   "execution_count": 1,
   "metadata": {},
   "outputs": [],
   "source": [
    "import torch\n",
    "\n",
    "device = \"cuda\" if torch.cuda.is_available() else \"cpu\""
   ]
  },
  {
   "cell_type": "code",
   "execution_count": 6,
   "metadata": {},
   "outputs": [
    {
     "data": {
      "image/png": "[encoded data removed]",
      "text/plain": [
       "<Figure size 640x480 with 1 Axes>"
      ]
     },
     "metadata": {},
     "output_type": "display_data"
    }
   ],
   "source": [
    "import matplotlib.pyplot as plt\n",
    "import matplotlib\n",
    "\n",
    "fig = plt.figure()\n",
    "ax = fig.add_subplot(111)\n",
    "for i in range(10):\n",
    "    ax.clear()\n",
    "\n",
    "    ax.plot([i for _ in range(10)])"
   ]
  },
  {
   "cell_type": "code",
   "execution_count": 7,
   "metadata": {},
   "outputs": [
    {
     "data": {
      "image/png": "[encoded data removed]",
      "text/plain": [
       "<Figure size 640x480 with 2 Axes>"
      ]
     },
     "metadata": {},
     "output_type": "display_data"
    }
   ],
   "source": [
    "import matplotlib.pyplot as plt\n",
    "import matplotlib\n",
    "l1 = [1,2,3,4,5,6,7,8,9,10]\n",
    "l2 = [10,9,8,7,6,5,4,3,2,1]\n",
    "\n",
    "fig = plt.figure()\n",
    "ax1 = fig.add_subplot(121)\n",
    "ax2 = fig.add_subplot(122)\n",
    "ax1.set_title('train')\n",
    "ax2.set_title('eval')\n",
    "ax1.set_xlabel('Episode')\n",
    "ax2.set_xlabel('Episode')\n",
    "ax1.set_ylabel('Average queue length')\n",
    "ax2.set_ylabel('Average queue length')\n",
    "ax1.plot(l1)\n",
    "ax2.plot(l2)\n",
    "fig.tight_layout()\n",
    "ax1.plot(l2)\n",
    "ax2.plot(l1)\n",
    "fig.savefig(\"test.png\")"
   ]
  },
  {
   "cell_type": "code",
   "execution_count": 9,
   "metadata": {},
   "outputs": [
    {
     "name": "stdout",
     "output_type": "stream",
     "text": [
      "0\n",
      "1\n",
      "2\n",
      "3\n",
      "4\n",
      "5\n",
      "6\n",
      "7\n",
      "8\n",
      "9\n",
      "10\n"
     ]
    }
   ],
   "source": [
    "for i in range(10):\n",
    "    print(i)\n",
    "else:\n",
    "    print(i+1)"
   ]
  }
 ],
 "metadata": {
  "kernelspec": {
   "display_name": "RL",
   "language": "python",
   "name": "python3"
  },
  "language_info": {
   "codemirror_mode": {
    "name": "ipython",
    "version": 3
   },
   "file_extension": ".py",
   "mimetype": "text/x-python",
   "name": "python",
   "nbconvert_exporter": "python",
   "pygments_lexer": "ipython3",
   "version": "3.11.0"
  }
 },
 "nbformat": 4,
 "nbformat_minor": 2
}
